{
 "cells": [
  {
   "cell_type": "markdown",
   "metadata": {},
   "source": [
    "**Emmanuel Decena - ME EE**\n",
    "\n",
    "**Foundations of Machine Learning**\n",
    "\n",
    "Assignment 1 - Positional Encoding"
   ]
  },
  {
   "cell_type": "markdown",
   "metadata": {},
   "source": [
    "**1. Generate a 16×16 − dim position encoding using an interweaved sin T and cos T functions:𝐵= 𝒃!,𝒃,,...,𝒃!- !- where 𝒃 ∈ R . Distribute the the domain of 16-dim between 0 to 2𝜋.**"
   ]
  },
  {
   "cell_type": "code",
   "execution_count": 1,
   "metadata": {},
   "outputs": [],
   "source": [
    "import numpy as np\n",
    "import matplotlib.pyplot as plt"
   ]
  },
  {
   "cell_type": "code",
   "execution_count": 2,
   "metadata": {},
   "outputs": [],
   "source": [
    "def get_angles(pos, i, d_model):\n",
    "  angle_rates = 1 / np.power(10000, (2 * (i//2)) / np.float32(d_model))\n",
    "  return pos * angle_rates\n",
    "\n",
    "def positional_encoding(position, d_model):\n",
    "  angle_rads = get_angles(np.arange(position)[:, np.newaxis], np.arange(d_model)[np.newaxis, :], d_model)\n",
    "  \n",
    "  # apply sin to even indices in the array; 2i\n",
    "  angle_rads[:, 0::2] = np.sin(angle_rads[:, 0::2])\n",
    "  \n",
    "  # apply cos to odd indices in the array; 2i+1\n",
    "  angle_rads[:, 1::2] = np.cos(angle_rads[:, 1::2])\n",
    "    \n",
    "  pos_encoding = angle_rads[np.newaxis, ...]\n",
    "    \n",
    "  return pos_encoding"
   ]
  },
  {
   "cell_type": "code",
   "execution_count": 31,
   "metadata": {},
   "outputs": [
    {
     "data": {
      "text/plain": [
       "(1, 16, 16)"
      ]
     },
     "execution_count": 31,
     "metadata": {},
     "output_type": "execute_result"
    }
   ],
   "source": [
    "tokens = 16\n",
    "dimensions = 16\n",
    "\n",
    "pos_encoding = positional_encoding(tokens, dimensions)\n",
    "pos_encoding.shape"
   ]
  },
  {
   "cell_type": "markdown",
   "metadata": {},
   "source": [
    "**2. If 𝐵 is a set of basis vectors, are the vectors orthogonal? Orthonomal? If not, make the basis vectors orthogonal and orthonormal using G-S method.**"
   ]
  },
  {
   "cell_type": "markdown",
   "metadata": {},
   "source": [
    "**Checking if orthogonal and orthonormal**"
   ]
  },
  {
   "cell_type": "code",
   "execution_count": 32,
   "metadata": {},
   "outputs": [
    {
     "data": {
      "text/plain": [
       "array([[8.        , 7.48516624, 6.36827662, 5.54310106, 5.5596768 ,\n",
       "        6.13703996, 6.44476412, 5.89218599, 4.69719104, 3.70911136,\n",
       "        3.64630919, 4.44763429, 5.33290184, 5.51643254, 4.91807334,\n",
       "        4.21918798],\n",
       "       [7.48516624, 8.        , 7.48516624, 6.36827662, 5.54310106,\n",
       "        5.5596768 , 6.13703996, 6.44476412, 5.89218599, 4.69719104,\n",
       "        3.70911136, 3.64630919, 4.44763429, 5.33290184, 5.51643254,\n",
       "        4.91807334],\n",
       "       [6.36827662, 7.48516624, 8.        , 7.48516624, 6.36827662,\n",
       "        5.54310106, 5.5596768 , 6.13703996, 6.44476412, 5.89218599,\n",
       "        4.69719104, 3.70911136, 3.64630919, 4.44763429, 5.33290184,\n",
       "        5.51643254],\n",
       "       [5.54310106, 6.36827662, 7.48516624, 8.        , 7.48516624,\n",
       "        6.36827662, 5.54310106, 5.5596768 , 6.13703996, 6.44476412,\n",
       "        5.89218599, 4.69719104, 3.70911136, 3.64630919, 4.44763429,\n",
       "        5.33290184],\n",
       "       [5.5596768 , 5.54310106, 6.36827662, 7.48516624, 8.        ,\n",
       "        7.48516624, 6.36827662, 5.54310106, 5.5596768 , 6.13703996,\n",
       "        6.44476412, 5.89218599, 4.69719104, 3.70911136, 3.64630919,\n",
       "        4.44763429],\n",
       "       [6.13703996, 5.5596768 , 5.54310106, 6.36827662, 7.48516624,\n",
       "        8.        , 7.48516624, 6.36827662, 5.54310106, 5.5596768 ,\n",
       "        6.13703996, 6.44476412, 5.89218599, 4.69719104, 3.70911136,\n",
       "        3.64630919],\n",
       "       [6.44476412, 6.13703996, 5.5596768 , 5.54310106, 6.36827662,\n",
       "        7.48516624, 8.        , 7.48516624, 6.36827662, 5.54310106,\n",
       "        5.5596768 , 6.13703996, 6.44476412, 5.89218599, 4.69719104,\n",
       "        3.70911136],\n",
       "       [5.89218599, 6.44476412, 6.13703996, 5.5596768 , 5.54310106,\n",
       "        6.36827662, 7.48516624, 8.        , 7.48516624, 6.36827662,\n",
       "        5.54310106, 5.5596768 , 6.13703996, 6.44476412, 5.89218599,\n",
       "        4.69719104],\n",
       "       [4.69719104, 5.89218599, 6.44476412, 6.13703996, 5.5596768 ,\n",
       "        5.54310106, 6.36827662, 7.48516624, 8.        , 7.48516624,\n",
       "        6.36827662, 5.54310106, 5.5596768 , 6.13703996, 6.44476412,\n",
       "        5.89218599],\n",
       "       [3.70911136, 4.69719104, 5.89218599, 6.44476412, 6.13703996,\n",
       "        5.5596768 , 5.54310106, 6.36827662, 7.48516624, 8.        ,\n",
       "        7.48516624, 6.36827662, 5.54310106, 5.5596768 , 6.13703996,\n",
       "        6.44476412],\n",
       "       [3.64630919, 3.70911136, 4.69719104, 5.89218599, 6.44476412,\n",
       "        6.13703996, 5.5596768 , 5.54310106, 6.36827662, 7.48516624,\n",
       "        8.        , 7.48516624, 6.36827662, 5.54310106, 5.5596768 ,\n",
       "        6.13703996],\n",
       "       [4.44763429, 3.64630919, 3.70911136, 4.69719104, 5.89218599,\n",
       "        6.44476412, 6.13703996, 5.5596768 , 5.54310106, 6.36827662,\n",
       "        7.48516624, 8.        , 7.48516624, 6.36827662, 5.54310106,\n",
       "        5.5596768 ],\n",
       "       [5.33290184, 4.44763429, 3.64630919, 3.70911136, 4.69719104,\n",
       "        5.89218599, 6.44476412, 6.13703996, 5.5596768 , 5.54310106,\n",
       "        6.36827662, 7.48516624, 8.        , 7.48516624, 6.36827662,\n",
       "        5.54310106],\n",
       "       [5.51643254, 5.33290184, 4.44763429, 3.64630919, 3.70911136,\n",
       "        4.69719104, 5.89218599, 6.44476412, 6.13703996, 5.5596768 ,\n",
       "        5.54310106, 6.36827662, 7.48516624, 8.        , 7.48516624,\n",
       "        6.36827662],\n",
       "       [4.91807334, 5.51643254, 5.33290184, 4.44763429, 3.64630919,\n",
       "        3.70911136, 4.69719104, 5.89218599, 6.44476412, 6.13703996,\n",
       "        5.5596768 , 5.54310106, 6.36827662, 7.48516624, 8.        ,\n",
       "        7.48516624],\n",
       "       [4.21918798, 4.91807334, 5.51643254, 5.33290184, 4.44763429,\n",
       "        3.64630919, 3.70911136, 4.69719104, 5.89218599, 6.44476412,\n",
       "        6.13703996, 5.5596768 , 5.54310106, 6.36827662, 7.48516624,\n",
       "        8.        ]])"
      ]
     },
     "execution_count": 32,
     "metadata": {},
     "output_type": "execute_result"
    }
   ],
   "source": [
    "#Orthogonal matrix multiplied by transpose of itself must return identity matrix\n",
    "pos_encoding[0].dot(pos_encoding[0].T)"
   ]
  },
  {
   "cell_type": "markdown",
   "metadata": {},
   "source": [
    "**Applying GS**"
   ]
  },
  {
   "cell_type": "code",
   "execution_count": 33,
   "metadata": {},
   "outputs": [],
   "source": [
    "q, r = np.linalg.qr(pos_encoding[0])"
   ]
  },
  {
   "cell_type": "code",
   "execution_count": 34,
   "metadata": {},
   "outputs": [
    {
     "data": {
      "text/plain": [
       "array([[ 0.        , -0.35075008, -0.03035764, -0.35102805, -0.27714595,\n",
       "         0.51756466, -0.47057115, -0.37349839, -0.18461136,  0.10350272,\n",
       "        -0.04406293,  0.02045177,  0.00470124,  0.00437847, -0.00092754,\n",
       "        -0.00383091],\n",
       "       [-0.29995127, -0.19368307, -0.16973745, -0.25463363, -0.21054296,\n",
       "         0.26525884,  0.09625185,  0.4663709 ,  0.46256966, -0.38541339,\n",
       "         0.2289655 , -0.13531751, -0.04223897, -0.03831873,  0.00593137,\n",
       "         0.02953571],\n",
       "       [-0.32412872,  0.14145526, -0.24418655, -0.19101844, -0.21497824,\n",
       "         0.12620503,  0.3302561 ,  0.24327287, -0.14580843,  0.40490187,\n",
       "        -0.4227021 ,  0.35626594,  0.16711674,  0.14641878, -0.01266348,\n",
       "        -0.0899266 ],\n",
       "       [-0.05030373,  0.34654028, -0.26734508, -0.15663699, -0.28609975,\n",
       "         0.00699994,  0.27979662, -0.15884272, -0.32278168,  0.10027847,\n",
       "         0.22378177, -0.42385208, -0.37538634, -0.3142826 ,  0.00248482,\n",
       "         0.11083467],\n",
       "       [ 0.26977028,  0.23301776, -0.28283201, -0.10075105, -0.33958389,\n",
       "        -0.13726578,  0.09262701, -0.25482326,  0.0014054 , -0.3064774 ,\n",
       "         0.23809832,  0.08570127,  0.50234852,  0.39986684,  0.02478442,\n",
       "         0.06542595],\n",
       "       [ 0.34181874, -0.09474021, -0.31770489,  0.01975542, -0.29422232,\n",
       "        -0.25891144, -0.07347696, -0.06753316,  0.24683476, -0.12541348,\n",
       "        -0.23027838,  0.3106481 , -0.34471235, -0.2837541 ,  0.00941233,\n",
       "        -0.42857691],\n",
       "       [ 0.09960062, -0.33539447, -0.35348797,  0.19136434, -0.15333154,\n",
       "        -0.26627078, -0.1432299 ,  0.10670232,  0.11105116,  0.22946506,\n",
       "        -0.20635488, -0.18499653, -0.04367808,  0.10706988, -0.18729099,\n",
       "         0.63203089],\n",
       "       [-0.23418985, -0.2676886 , -0.34181135,  0.34670524, -0.00893282,\n",
       "        -0.11970559, -0.14228467,  0.0700586 , -0.16015772,  0.17893817,\n",
       "         0.20553627, -0.24291665,  0.3484135 , -0.14531871,  0.39549672,\n",
       "        -0.37288855],\n",
       "       [-0.35266725,  0.04612894, -0.25041633,  0.41752987,  0.03589157,\n",
       "         0.11454702, -0.13224426, -0.08754765, -0.17478905, -0.1646759 ,\n",
       "         0.22100607,  0.22894624, -0.37902895,  0.39419971, -0.35510754,\n",
       "        -0.11317637],\n",
       "       [-0.14690401,  0.31753574, -0.09707759,  0.3900641 , -0.04419684,\n",
       "         0.30406797, -0.1285319 , -0.12401509,  0.09114299, -0.23807463,\n",
       "        -0.19379421,  0.19812175,  0.26973127, -0.53504231, -0.01774135,\n",
       "         0.29760771],\n",
       "       [ 0.1939221 ,  0.29700165,  0.06016843,  0.31258029, -0.17785155,\n",
       "         0.34924309, -0.08145268,  0.05766326,  0.25660236,  0.10397677,\n",
       "        -0.25013449, -0.29498646, -0.21268709,  0.38305634,  0.4329588 ,\n",
       "        -0.06028738],\n",
       "       [ 0.35645713,  0.00340561,  0.1681566 ,  0.24873294, -0.2649182 ,\n",
       "         0.25293765,  0.05954207,  0.26451729,  0.02745312,  0.30524858,\n",
       "         0.23197918, -0.10096916,  0.20433252, -0.11193113, -0.5582746 ,\n",
       "        -0.22631364],\n",
       "       [ 0.19126711, -0.29332153,  0.21840821,  0.21978715, -0.26847292,\n",
       "         0.09911791,  0.25737818,  0.1930638 , -0.33013772, -0.0724767 ,\n",
       "         0.25105854,  0.40816624, -0.15776683, -0.04032578,  0.39092444,\n",
       "         0.26970223],\n",
       "       [-0.149773  , -0.32037021,  0.24592114,  0.18878005, -0.24638425,\n",
       "        -0.03792301,  0.35845674, -0.19939796, -0.17970026, -0.39104148,\n",
       "        -0.44512723, -0.32775774,  0.07804354,  0.0493601 , -0.16607576,\n",
       "        -0.14677995],\n",
       "       [-0.35311251, -0.05287199,  0.28894051,  0.10080907, -0.29359868,\n",
       "        -0.168791  ,  0.15465451, -0.45038674,  0.49365826,  0.34469653,\n",
       "         0.23733637,  0.12001484, -0.02183627, -0.01778534,  0.04045793,\n",
       "         0.04164041],\n",
       "       [-0.23180201,  0.26323649,  0.34749505, -0.05821918, -0.44864378,\n",
       "        -0.37868432, -0.51416262,  0.31076527, -0.19274162, -0.08743476,\n",
       "        -0.04530781, -0.01752003,  0.00264755,  0.00240859, -0.00436958,\n",
       "        -0.00499727]])"
      ]
     },
     "execution_count": 34,
     "metadata": {},
     "output_type": "execute_result"
    }
   ],
   "source": [
    "norm_pos_encoding = q\n",
    "norm_pos_encoding"
   ]
  },
  {
   "cell_type": "code",
   "execution_count": 35,
   "metadata": {},
   "outputs": [
    {
     "data": {
      "text/plain": [
       "array([[ 1.00000000e+00,  9.60555149e-17,  1.87073629e-16,\n",
       "         1.06954945e-16, -4.42839695e-17,  1.79338462e-16,\n",
       "        -8.56505813e-17, -7.72466827e-18,  3.65801758e-17,\n",
       "        -7.12822567e-17, -6.19262555e-17, -1.35632355e-16,\n",
       "        -2.04836244e-17,  8.67738294e-17, -5.26209113e-17,\n",
       "        -2.79936954e-17],\n",
       "       [ 9.60555149e-17,  1.00000000e+00, -7.61466234e-17,\n",
       "        -1.71231336e-17, -5.30235549e-17,  8.43181014e-17,\n",
       "        -1.32798958e-16,  7.27854973e-17, -1.43618145e-16,\n",
       "        -2.67535241e-16, -5.88201663e-17, -5.18475422e-17,\n",
       "         1.95662314e-17, -1.16312681e-16,  2.31460056e-16,\n",
       "         6.48324495e-17],\n",
       "       [ 1.87073629e-16, -7.61466234e-17,  1.00000000e+00,\n",
       "         3.47627843e-17, -2.01018756e-16, -8.87809000e-17,\n",
       "        -2.42946553e-16, -7.37103249e-17, -1.03925851e-16,\n",
       "         1.58196721e-16, -8.87194130e-17, -7.22715259e-17,\n",
       "        -5.55051336e-17,  1.16358364e-16,  2.22472480e-16,\n",
       "         3.29619046e-16],\n",
       "       [ 1.06954945e-16, -1.71231336e-17,  3.47627843e-17,\n",
       "         1.00000000e+00, -1.23448424e-16, -1.47108466e-17,\n",
       "        -4.19505405e-17, -2.26390449e-16,  3.46916210e-17,\n",
       "        -1.48015760e-16,  2.21786106e-17, -1.13186534e-16,\n",
       "        -2.93267451e-17, -5.16545693e-17, -5.40116601e-17,\n",
       "         1.39046428e-16],\n",
       "       [-4.42839695e-17, -5.30235549e-17, -2.01018756e-16,\n",
       "        -1.23448424e-16,  1.00000000e+00, -1.06493925e-16,\n",
       "        -5.15596998e-17, -1.54846064e-17, -7.16967893e-17,\n",
       "         8.04178810e-17, -1.50103502e-16,  7.52308523e-17,\n",
       "        -7.12033647e-19, -1.45727890e-16,  1.29384056e-16,\n",
       "         1.30222901e-16],\n",
       "       [ 1.79338462e-16,  8.43181014e-17, -8.87809000e-17,\n",
       "        -1.47108466e-17, -1.06493925e-16,  1.00000000e+00,\n",
       "         5.99497723e-17, -1.40805735e-16, -4.34068602e-17,\n",
       "        -9.23662273e-17,  3.64603005e-16, -7.28020706e-18,\n",
       "         1.83692022e-16, -3.48185494e-17,  1.12382955e-16,\n",
       "        -9.80628507e-17],\n",
       "       [-8.56505813e-17, -1.32798958e-16, -2.42946553e-16,\n",
       "        -4.19505405e-17, -5.15596998e-17,  5.99497723e-17,\n",
       "         1.00000000e+00,  1.06677995e-16,  6.67105591e-17,\n",
       "        -1.71046876e-16,  1.25447938e-16, -7.49372720e-17,\n",
       "         9.74444417e-17,  1.48860658e-16,  1.70256092e-17,\n",
       "         4.95341974e-17],\n",
       "       [-7.72466827e-18,  7.27854973e-17, -7.37103249e-17,\n",
       "        -2.26390449e-16, -1.54846064e-17, -1.40805735e-16,\n",
       "         1.06677995e-16,  1.00000000e+00,  7.86999786e-17,\n",
       "         1.45456850e-16, -1.00089946e-16,  2.15143247e-16,\n",
       "        -1.46774584e-17, -5.62996252e-17, -2.25098682e-17,\n",
       "         1.27322636e-16],\n",
       "       [ 3.65801758e-17, -1.43618145e-16, -1.03925851e-16,\n",
       "         3.46916210e-17, -7.16967893e-17, -4.34068602e-17,\n",
       "         6.67105591e-17,  7.86999786e-17,  1.00000000e+00,\n",
       "         3.48510122e-16,  3.21122027e-17, -9.39992336e-17,\n",
       "         2.03961595e-16,  4.53550406e-17,  3.33253096e-17,\n",
       "         4.54121755e-17],\n",
       "       [-7.12822567e-17, -2.67535241e-16,  1.58196721e-16,\n",
       "        -1.48015760e-16,  8.04178810e-17, -9.23662273e-17,\n",
       "        -1.71046876e-16,  1.45456850e-16,  3.48510122e-16,\n",
       "         1.00000000e+00,  1.63195715e-16,  5.50191050e-17,\n",
       "        -1.69700661e-16, -2.88300005e-17,  7.79112386e-17,\n",
       "        -2.63612968e-17],\n",
       "       [-6.19262555e-17, -5.88201663e-17, -8.87194130e-17,\n",
       "         2.21786106e-17, -1.50103502e-16,  3.64603005e-16,\n",
       "         1.25447938e-16, -1.00089946e-16,  3.21122027e-17,\n",
       "         1.63195715e-16,  1.00000000e+00, -9.33433913e-17,\n",
       "         8.60307894e-18,  1.20778544e-16,  6.00600426e-18,\n",
       "         1.32406189e-16],\n",
       "       [-1.35632355e-16, -5.18475422e-17, -7.22715259e-17,\n",
       "        -1.13186534e-16,  7.52308523e-17, -7.28020706e-18,\n",
       "        -7.49372720e-17,  2.15143247e-16, -9.39992336e-17,\n",
       "         5.50191050e-17, -9.33433913e-17,  1.00000000e+00,\n",
       "         1.20214078e-17, -5.79220699e-17, -4.06576610e-17,\n",
       "        -3.75786309e-17],\n",
       "       [-2.04836244e-17,  1.95662314e-17, -5.55051336e-17,\n",
       "        -2.93267451e-17, -7.12033647e-19,  1.83692022e-16,\n",
       "         9.74444417e-17, -1.46774584e-17,  2.03961595e-16,\n",
       "        -1.69700661e-16,  8.60307894e-18,  1.20214078e-17,\n",
       "         1.00000000e+00, -7.82988268e-17,  1.00076127e-16,\n",
       "         5.37036624e-17],\n",
       "       [ 8.67738294e-17, -1.16312681e-16,  1.16358364e-16,\n",
       "        -5.16545693e-17, -1.45727890e-16, -3.48185494e-17,\n",
       "         1.48860658e-16, -5.62996252e-17,  4.53550406e-17,\n",
       "        -2.88300005e-17,  1.20778544e-16, -5.79220699e-17,\n",
       "        -7.82988268e-17,  1.00000000e+00, -4.87668854e-17,\n",
       "        -6.18847766e-17],\n",
       "       [-5.26209113e-17,  2.31460056e-16,  2.22472480e-16,\n",
       "        -5.40116601e-17,  1.29384056e-16,  1.12382955e-16,\n",
       "         1.70256092e-17, -2.25098682e-17,  3.33253096e-17,\n",
       "         7.79112386e-17,  6.00600426e-18, -4.06576610e-17,\n",
       "         1.00076127e-16, -4.87668854e-17,  1.00000000e+00,\n",
       "        -3.22869696e-16],\n",
       "       [-2.79936954e-17,  6.48324495e-17,  3.29619046e-16,\n",
       "         1.39046428e-16,  1.30222901e-16, -9.80628507e-17,\n",
       "         4.95341974e-17,  1.27322636e-16,  4.54121755e-17,\n",
       "        -2.63612968e-17,  1.32406189e-16, -3.75786309e-17,\n",
       "         5.37036624e-17, -6.18847766e-17, -3.22869696e-16,\n",
       "         1.00000000e+00]])"
      ]
     },
     "execution_count": 35,
     "metadata": {},
     "output_type": "execute_result"
    }
   ],
   "source": [
    "norm_pos_encoding.dot(norm_pos_encoding.T)"
   ]
  },
  {
   "cell_type": "markdown",
   "metadata": {},
   "source": [
    "**3. Generate a colored visualization of vectors in 1 and 2.**"
   ]
  },
  {
   "cell_type": "code",
   "execution_count": 36,
   "metadata": {},
   "outputs": [
    {
     "name": "stdout",
     "output_type": "stream",
     "text": [
      "(1, 16, 16)\n"
     ]
    },
    {
     "data": {
      "image/png": "[encoded data removed]",
      "text/plain": [
       "<Figure size 864x576 with 2 Axes>"
      ]
     },
     "metadata": {
      "needs_background": "light"
     },
     "output_type": "display_data"
    }
   ],
   "source": [
    "print (pos_encoding.shape)\n",
    "\n",
    "plt.figure(figsize=(12,8))\n",
    "plt.pcolormesh(pos_encoding[0], cmap='viridis')\n",
    "plt.xlabel('Embedding Dimensions')\n",
    "plt.xlim((0, dimensions))\n",
    "plt.ylim((tokens,0))\n",
    "plt.ylabel('Token Position')\n",
    "plt.title('Positional Encoding')\n",
    "plt.colorbar()\n",
    "plt.show()"
   ]
  },
  {
   "cell_type": "code",
   "execution_count": 37,
   "metadata": {},
   "outputs": [
    {
     "name": "stdout",
     "output_type": "stream",
     "text": [
      "(16, 16)\n"
     ]
    },
    {
     "data": {
      "image/png": "[encoded data removed]",
      "text/plain": [
       "<Figure size 864x576 with 2 Axes>"
      ]
     },
     "metadata": {
      "needs_background": "light"
     },
     "output_type": "display_data"
    }
   ],
   "source": [
    "print (norm_pos_encoding.shape)\n",
    "\n",
    "plt.figure(figsize=(12,8))\n",
    "plt.pcolormesh(norm_pos_encoding, cmap='viridis')\n",
    "plt.xlabel('Embedding Dimensions')\n",
    "plt.xlim((0, dimensions))\n",
    "plt.ylim((tokens,0))\n",
    "plt.ylabel('Token Position')\n",
    "plt.title('Orthogonal Positional Encoding')\n",
    "plt.colorbar()\n",
    "plt.show()"
   ]
  },
  {
   "cell_type": "code",
   "execution_count": null,
   "metadata": {},
   "outputs": [],
   "source": []
  }
 ],
 "metadata": {
  "kernelspec": {
   "display_name": "env-jupyterbook",
   "language": "python",
   "name": "env-jupyterbook"
  },
  "language_info": {
   "codemirror_mode": {
    "name": "ipython",
    "version": 3
   },
   "file_extension": ".py",
   "mimetype": "text/x-python",
   "name": "python",
   "nbconvert_exporter": "python",
   "pygments_lexer": "ipython3",
   "version": "3.7.9"
  }
 },
 "nbformat": 4,
 "nbformat_minor": 4
}
