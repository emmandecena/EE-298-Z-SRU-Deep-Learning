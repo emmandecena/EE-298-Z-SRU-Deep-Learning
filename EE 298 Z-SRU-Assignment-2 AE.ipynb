{
 "cells": [
  {
   "cell_type": "markdown",
   "metadata": {},
   "source": [
    "**Emmanuel Decena - ME EE** - Deep Learning Assignment 2\n",
    "\n",
    "**Unsupervised MNIST Clustering**"
   ]
  },
  {
   "cell_type": "markdown",
   "metadata": {},
   "source": [
    "## Can we use an autoencoder to build a self-supervised classifier?"
   ]
  },
  {
   "cell_type": "markdown",
   "metadata": {},
   "source": [
    "### Libraries and Dataset"
   ]
  },
  {
   "cell_type": "code",
   "execution_count": 42,
   "metadata": {},
   "outputs": [],
   "source": [
    "from tensorflow.keras.layers import Dense, Input\n",
    "from tensorflow.keras.layers import Conv2D, Flatten\n",
    "from tensorflow.keras.layers import Reshape, Conv2DTranspose\n",
    "from tensorflow.keras.models import Model\n",
    "from tensorflow.keras.datasets import mnist\n",
    "from tensorflow.keras.utils import plot_model\n",
    "from tensorflow.keras import backend as K\n",
    "\n",
    "import numpy as np\n",
    "import matplotlib.pyplot as plt"
   ]
  },
  {
   "cell_type": "code",
   "execution_count": 43,
   "metadata": {},
   "outputs": [],
   "source": [
    "# load MNIST dataset\n",
    "(x_train, y_train), (x_test, y_test) = mnist.load_data()"
   ]
  },
  {
   "cell_type": "code",
   "execution_count": 44,
   "metadata": {},
   "outputs": [],
   "source": [
    "# reshape to (28, 28, 1), adding 1 to last dimension\n",
    "image_size = x_train.shape[1]\n",
    "x_train = np.reshape(x_train, [-1, image_size, image_size, 1])\n",
    "x_test = np.reshape(x_test, [-1, image_size, image_size, 1])\n",
    "\n",
    "# normalize input images\n",
    "x_train = x_train.astype('float32') / 255\n",
    "x_test = x_test.astype('float32') / 255"
   ]
  },
  {
   "cell_type": "markdown",
   "metadata": {},
   "source": [
    "### Building the Autoencoder"
   ]
  },
  {
   "cell_type": "markdown",
   "metadata": {},
   "source": [
    "The autoencoder is composed of two parts:\n",
    "- encoder: A stack of Conv2D(32)-Conv2D(64) with an input layer that takes in the (28,28) MNIST image. The kernel is 3 and batch size is 32. The latent dimension is 4 which is the output of the encoder.\n",
    "- decoder: A stack of Conv2DTranspose(64)-Conv2DTranspose(32) that takes the latent dimension of 4 as its input. The output is the original image size of (28,28)"
   ]
  },
  {
   "cell_type": "markdown",
   "metadata": {},
   "source": [
    "#### Encoder"
   ]
  },
  {
   "cell_type": "code",
   "execution_count": 53,
   "metadata": {},
   "outputs": [],
   "source": [
    "# network parameters\n",
    "input_shape = (image_size, image_size, 1)\n",
    "batch_size = 128\n",
    "kernel_size = 3\n",
    "latent_dim = 4\n",
    "# encoder/decoder number of CNN layers and filters per layer\n",
    "layer_filters = [32, 64]"
   ]
  },
  {
   "cell_type": "code",
   "execution_count": 54,
   "metadata": {},
   "outputs": [],
   "source": [
    "# build the autoencoder model\n",
    "# first build the encoder model\n",
    "inputs = Input(shape=input_shape, name='encoder_input')\n",
    "x = inputs\n",
    "# stack of Conv2D(32)-Conv2D(64)\n",
    "for filters in layer_filters:\n",
    "    x = Conv2D(filters=filters,\n",
    "               kernel_size=kernel_size,\n",
    "               activation='relu',\n",
    "               strides=2,\n",
    "               padding='same')(x)"
   ]
  },
  {
   "cell_type": "code",
   "execution_count": 55,
   "metadata": {},
   "outputs": [],
   "source": [
    "shape = K.int_shape(x)\n",
    "\n",
    "# generate latent vector\n",
    "x = Flatten()(x)\n",
    "latent = Dense(latent_dim, name='latent_vector')(x)\n",
    "\n",
    "# instantiate encoder model\n",
    "encoder = Model(inputs,\n",
    "                latent,\n",
    "                name='encoder')"
   ]
  },
  {
   "cell_type": "code",
   "execution_count": 56,
   "metadata": {},
   "outputs": [
    {
     "name": "stdout",
     "output_type": "stream",
     "text": [
      "Model: \"encoder\"\n",
      "_________________________________________________________________\n",
      "Layer (type)                 Output Shape              Param #   \n",
      "=================================================================\n",
      "encoder_input (InputLayer)   [(None, 28, 28, 1)]       0         \n",
      "_________________________________________________________________\n",
      "conv2d_6 (Conv2D)            (None, 14, 14, 32)        320       \n",
      "_________________________________________________________________\n",
      "conv2d_7 (Conv2D)            (None, 7, 7, 64)          18496     \n",
      "_________________________________________________________________\n",
      "flatten_3 (Flatten)          (None, 3136)              0         \n",
      "_________________________________________________________________\n",
      "latent_vector (Dense)        (None, 4)                 12548     \n",
      "=================================================================\n",
      "Total params: 31,364\n",
      "Trainable params: 31,364\n",
      "Non-trainable params: 0\n",
      "_________________________________________________________________\n"
     ]
    }
   ],
   "source": [
    "encoder.summary()"
   ]
  },
  {
   "cell_type": "markdown",
   "metadata": {},
   "source": [
    "#### Decoder"
   ]
  },
  {
   "cell_type": "code",
   "execution_count": 57,
   "metadata": {},
   "outputs": [
    {
     "name": "stdout",
     "output_type": "stream",
     "text": [
      "Model: \"decoder\"\n",
      "_________________________________________________________________\n",
      "Layer (type)                 Output Shape              Param #   \n",
      "=================================================================\n",
      "decoder_input (InputLayer)   [(None, 4)]               0         \n",
      "_________________________________________________________________\n",
      "dense_4 (Dense)              (None, 3136)              15680     \n",
      "_________________________________________________________________\n",
      "reshape_4 (Reshape)          (None, 7, 7, 64)          0         \n",
      "_________________________________________________________________\n",
      "conv2d_transpose_8 (Conv2DTr (None, 14, 14, 64)        36928     \n",
      "_________________________________________________________________\n",
      "conv2d_transpose_9 (Conv2DTr (None, 28, 28, 32)        18464     \n",
      "_________________________________________________________________\n",
      "decoder_output (Conv2DTransp (None, 28, 28, 1)         289       \n",
      "=================================================================\n",
      "Total params: 71,361\n",
      "Trainable params: 71,361\n",
      "Non-trainable params: 0\n",
      "_________________________________________________________________\n"
     ]
    }
   ],
   "source": [
    "# build the decoder model\n",
    "latent_inputs = Input(shape=(latent_dim,), name='decoder_input')\n",
    "# use the shape (7, 7, 64) that was earlier saved\n",
    "x = Dense(shape[1] * shape[2] * shape[3])(latent_inputs)\n",
    "# from vector to suitable shape for transposed conv\n",
    "x = Reshape((shape[1], shape[2], shape[3]))(x)\n",
    "\n",
    "# stack of Conv2DTranspose(64)-Conv2DTranspose(32)\n",
    "for filters in layer_filters[::-1]:\n",
    "    x = Conv2DTranspose(filters=filters,\n",
    "                        kernel_size=kernel_size,\n",
    "                        activation='relu',\n",
    "                        strides=2,\n",
    "                        padding='same')(x)\n",
    "\n",
    "# reconstruct the input\n",
    "outputs = Conv2DTranspose(filters=1,\n",
    "                          kernel_size=kernel_size,\n",
    "                          activation='sigmoid',\n",
    "                          padding='same',\n",
    "                          name='decoder_output')(x)\n",
    "\n",
    "# instantiate decoder model\n",
    "decoder = Model(latent_inputs, outputs, name='decoder')\n",
    "decoder.summary()"
   ]
  },
  {
   "cell_type": "markdown",
   "metadata": {},
   "source": [
    "#### Autoencoder instance"
   ]
  },
  {
   "cell_type": "code",
   "execution_count": 58,
   "metadata": {},
   "outputs": [],
   "source": [
    "# autoencoder = encoder + decoder\n",
    "# instantiate autoencoder model\n",
    "autoencoder = Model(inputs,\n",
    "                    decoder(encoder(inputs)),\n",
    "                    name='autoencoder')"
   ]
  },
  {
   "cell_type": "code",
   "execution_count": 59,
   "metadata": {
    "scrolled": true
   },
   "outputs": [
    {
     "name": "stdout",
     "output_type": "stream",
     "text": [
      "Model: \"autoencoder\"\n",
      "_________________________________________________________________\n",
      "Layer (type)                 Output Shape              Param #   \n",
      "=================================================================\n",
      "encoder_input (InputLayer)   [(None, 28, 28, 1)]       0         \n",
      "_________________________________________________________________\n",
      "encoder (Model)              (None, 4)                 31364     \n",
      "_________________________________________________________________\n",
      "decoder (Model)              (None, 28, 28, 1)         71361     \n",
      "=================================================================\n",
      "Total params: 102,725\n",
      "Trainable params: 102,725\n",
      "Non-trainable params: 0\n",
      "_________________________________________________________________\n"
     ]
    }
   ],
   "source": [
    "autoencoder.summary()"
   ]
  },
  {
   "cell_type": "markdown",
   "metadata": {},
   "source": [
    "#### Autoencoder Training"
   ]
  },
  {
   "cell_type": "code",
   "execution_count": 60,
   "metadata": {},
   "outputs": [
    {
     "name": "stdout",
     "output_type": "stream",
     "text": [
      "Train on 60000 samples, validate on 10000 samples\n",
      "Epoch 1/5\n",
      "60000/60000 [==============================] - 210s 4ms/sample - loss: 0.0582 - val_loss: 0.0391\n",
      "Epoch 2/5\n",
      "60000/60000 [==============================] - 230s 4ms/sample - loss: 0.0369 - val_loss: 0.0347\n",
      "Epoch 3/5\n",
      "60000/60000 [==============================] - 229s 4ms/sample - loss: 0.0344 - val_loss: 0.0334\n",
      "Epoch 4/5\n",
      "60000/60000 [==============================] - 317s 5ms/sample - loss: 0.0332 - val_loss: 0.0326\n",
      "Epoch 5/5\n",
      "60000/60000 [==============================] - 226s 4ms/sample - loss: 0.0325 - val_loss: 0.0318\n"
     ]
    },
    {
     "data": {
      "text/plain": [
       "<tensorflow.python.keras.callbacks.History at 0x7f8b31332ed0>"
      ]
     },
     "execution_count": 60,
     "metadata": {},
     "output_type": "execute_result"
    }
   ],
   "source": [
    "# Mean Square Error (MSE) loss function, Adam optimizer\n",
    "autoencoder.compile(loss='mse', optimizer='adam')\n",
    "# train the autoencoder\n",
    "autoencoder.fit(x_train,\n",
    "                x_train,\n",
    "                validation_data=(x_test, x_test),\n",
    "                epochs=5,\n",
    "                batch_size=batch_size)"
   ]
  },
  {
   "cell_type": "markdown",
   "metadata": {},
   "source": [
    "## After building the AE, use the trained E to generate feature vectors."
   ]
  },
  {
   "cell_type": "code",
   "execution_count": 61,
   "metadata": {},
   "outputs": [],
   "source": [
    "latent_vectors = encoder.predict(x_test)"
   ]
  },
  {
   "cell_type": "markdown",
   "metadata": {},
   "source": [
    "### Plotting the first two dimensions"
   ]
  },
  {
   "cell_type": "code",
   "execution_count": 62,
   "metadata": {},
   "outputs": [
    {
     "data": {
      "image/png": "[encoded data removed]",
      "text/plain": [
       "<Figure size 432x288 with 2 Axes>"
      ]
     },
     "metadata": {
      "needs_background": "light"
     },
     "output_type": "display_data"
    }
   ],
   "source": [
    "\n",
    "plt.scatter(latent_vectors[:,0], latent_vectors[:,1], c=y_test, cmap='brg')\n",
    "plt.colorbar()\n",
    "plt.show()\n"
   ]
  },
  {
   "cell_type": "markdown",
   "metadata": {},
   "source": [
    "## Use K-means to cluster the feature vectors"
   ]
  },
  {
   "cell_type": "code",
   "execution_count": 63,
   "metadata": {},
   "outputs": [],
   "source": [
    "from sklearn.cluster import KMeans\n",
    "from sklearn import datasets\n",
    "from sklearn.metrics import confusion_matrix\n",
    "from munkres import Munkres"
   ]
  },
  {
   "cell_type": "code",
   "execution_count": 64,
   "metadata": {},
   "outputs": [],
   "source": [
    "# data and true labels\n",
    "data, classes = latent_vectors, y_test\n",
    "\n",
    "#Clustering\n",
    "algo = KMeans(n_clusters=10, random_state = 0)\n",
    "\n",
    "# performs the algo and get the predicted labels\n",
    "labels = algo.fit(data).labels_ "
   ]
  },
  {
   "cell_type": "markdown",
   "metadata": {},
   "source": [
    "## Use Hungarian Algorithm to assign label to each cluster"
   ]
  },
  {
   "cell_type": "code",
   "execution_count": 65,
   "metadata": {},
   "outputs": [],
   "source": [
    "def make_cost_matrix(c1, c2):\n",
    "    uc1 = np.unique(c1)\n",
    "    uc2 = np.unique(c2)\n",
    "    l1 = uc1.size\n",
    "    l2 = uc2.size\n",
    "    assert(l1 == l2 and np.all(uc1 == uc2))\n",
    "\n",
    "    m = np.ones([l1, l2])\n",
    "    for i in range(l1):\n",
    "        it_i = np.nonzero(c1 == uc1[i])[0]\n",
    "        for j in range(l2):\n",
    "            it_j = np.nonzero(c2 == uc2[j])[0]\n",
    "            m_ij = np.intersect1d(it_j, it_i)\n",
    "            m[i,j] =  -m_ij.size\n",
    "    return m"
   ]
  },
  {
   "cell_type": "code",
   "execution_count": 66,
   "metadata": {},
   "outputs": [],
   "source": [
    "def translate_clustering(clt, mapper):\n",
    "    return np.array([ mapper[i] for i in clt ])"
   ]
  },
  {
   "cell_type": "code",
   "execution_count": 67,
   "metadata": {},
   "outputs": [],
   "source": [
    "def accuracy(cm):\n",
    "    \"\"\"computes accuracy from confusion matrix\"\"\"\n",
    "    return np.trace(cm, dtype=float) / np.sum(cm)"
   ]
  },
  {
   "cell_type": "code",
   "execution_count": 68,
   "metadata": {},
   "outputs": [],
   "source": [
    "\n",
    "num_labels = len(np.unique(classes))\n",
    "\n",
    "cm = confusion_matrix(classes, labels, labels=range(num_labels)) # gets the confusion matrix"
   ]
  },
  {
   "cell_type": "code",
   "execution_count": 69,
   "metadata": {},
   "outputs": [
    {
     "name": "stdout",
     "output_type": "stream",
     "text": [
      "---------------------\n",
      "old confusion matrix:\n",
      " [[612   0  13   0   0   8 165   1 181   0]\n",
      " [  0   1   0   0 384  11   0   0   0 739]\n",
      " [  1 723  17   2  46  85   2   3 136  17]\n",
      " [  0  36 640   9   3 190   2   6 115   9]\n",
      " [  1   0   0 517  25  18  30 367  18   6]\n",
      " [  3   1 263  21  26 193  28  19 338   0]\n",
      " [ 25   0   1  12   2  73 741   2 102   0]\n",
      " [  0   1   0 195 121   3   1 647   7  53]\n",
      " [  1  12 120  12  60 667  10  10  72  10]\n",
      " [  1   0   5 490  18  17  13 435  12  18]]\n",
      "accuracy: 0.23\n"
     ]
    }
   ],
   "source": [
    "print(\"---------------------\\nold confusion matrix:\\n\" \\\n",
    "          \" %s\\naccuracy: %.2f\" % (str(cm), accuracy(cm)))"
   ]
  },
  {
   "cell_type": "code",
   "execution_count": 70,
   "metadata": {},
   "outputs": [],
   "source": [
    "cost_matrix = make_cost_matrix(labels, classes)"
   ]
  },
  {
   "cell_type": "code",
   "execution_count": 71,
   "metadata": {},
   "outputs": [],
   "source": [
    "m = Munkres()"
   ]
  },
  {
   "cell_type": "code",
   "execution_count": 72,
   "metadata": {},
   "outputs": [],
   "source": [
    "indexes = m.compute(cost_matrix)\n",
    "mapper = { old: new for (old, new) in indexes }"
   ]
  },
  {
   "cell_type": "code",
   "execution_count": 73,
   "metadata": {},
   "outputs": [
    {
     "name": "stdout",
     "output_type": "stream",
     "text": [
      "---------------------\n",
      "mapping:\n",
      "map: 0 --> 0\n",
      "map: 1 --> 2\n",
      "map: 2 --> 3\n",
      "map: 3 --> 4\n",
      "map: 4 --> 9\n",
      "map: 5 --> 8\n",
      "map: 6 --> 6\n",
      "map: 7 --> 7\n",
      "map: 8 --> 5\n",
      "map: 9 --> 1\n"
     ]
    }
   ],
   "source": [
    "print (\"---------------------\\nmapping:\")\n",
    "for old, new in mapper.items():\n",
    "        print (\"map: %s --> %s\" %(old, new))"
   ]
  },
  {
   "cell_type": "code",
   "execution_count": 74,
   "metadata": {},
   "outputs": [],
   "source": [
    "new_labels = translate_clustering(labels, mapper)\n",
    "new_cm = confusion_matrix(classes, new_labels, labels=range(num_labels))"
   ]
  },
  {
   "cell_type": "code",
   "execution_count": 75,
   "metadata": {},
   "outputs": [
    {
     "name": "stdout",
     "output_type": "stream",
     "text": [
      "---------------------\n",
      "new confusion matrix:\n",
      " [[612   0   0  13   0 181 165   1   8   0]\n",
      " [  0 739   1   0   0   0   0   0  11 384]\n",
      " [  1  17 723  17   2 136   2   3  85  46]\n",
      " [  0   9  36 640   9 115   2   6 190   3]\n",
      " [  1   6   0   0 517  18  30 367  18  25]\n",
      " [  3   0   1 263  21 338  28  19 193  26]\n",
      " [ 25   0   0   1  12 102 741   2  73   2]\n",
      " [  0  53   1   0 195   7   1 647   3 121]\n",
      " [  1  10  12 120  12  72  10  10 667  60]\n",
      " [  1  18   0   5 490  12  13 435  17  18]]\n",
      "accuracy: 0.56\n"
     ]
    }
   ],
   "source": [
    "print (\"---------------------\\nnew confusion matrix:\\n\" \\\n",
    "          \" %s\\naccuracy: %.2f\" % (str(new_cm), accuracy(new_cm)))"
   ]
  },
  {
   "cell_type": "markdown",
   "metadata": {},
   "source": [
    "### Conclusion"
   ]
  },
  {
   "cell_type": "markdown",
   "metadata": {},
   "source": [
    "Initially the encoder output's accuracy is about 23%. The accuracy increased to 56% after applying the Hungarian algorithm to correct the cluster labels."
   ]
  }
 ],
 "metadata": {
  "kernelspec": {
   "display_name": "env-jupyterbook",
   "language": "python",
   "name": "env-jupyterbook"
  },
  "language_info": {
   "codemirror_mode": {
    "name": "ipython",
    "version": 3
   },
   "file_extension": ".py",
   "mimetype": "text/x-python",
   "name": "python",
   "nbconvert_exporter": "python",
   "pygments_lexer": "ipython3",
   "version": "3.7.9"
  }
 },
 "nbformat": 4,
 "nbformat_minor": 4
}
