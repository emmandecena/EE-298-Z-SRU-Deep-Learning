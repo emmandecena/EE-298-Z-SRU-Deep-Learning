{
 "cells": [
  {
   "cell_type": "markdown",
   "metadata": {},
   "source": [
    "# Problem 2"
   ]
  },
  {
   "cell_type": "code",
   "execution_count": 69,
   "metadata": {},
   "outputs": [],
   "source": [
    "import numpy as np\n",
    "import pandas as pd\n",
    "header = ['iteration','Inc_loss_1','Inc_loss_2','Penfac_1','Penfac_2','Plosses', 'Pdemand', 'Lambda', 'P1','P2']\n",
    "values = []"
   ]
  },
  {
   "cell_type": "markdown",
   "metadata": {},
   "source": [
    "## Iteration 1"
   ]
  },
  {
   "cell_type": "code",
   "execution_count": 70,
   "metadata": {},
   "outputs": [
    {
     "name": "stdout",
     "output_type": "stream",
     "text": [
      "[268.83116883 806.16883117  48.05194805]\n"
     ]
    }
   ],
   "source": [
    "p1, p2 = [500, 500]\n",
    "incloss1 = 0.0004*p1\n",
    "incloss2 = 0.0002*p2\n",
    "penfact1 = 1/(1-incloss1)\n",
    "penfact2 = 1/(1-incloss2)\n",
    "ploss = 0.0002*p1*p1 + 0.0001*p2*p2\n",
    "pdemand = ploss + 1000\n",
    "#solve kkt\n",
    "A = np.array([[1, 1, 0], [0.05, 0, incloss1-1], [0, 0.04, incloss2-1]])\n",
    "B = np.array([pdemand, -25, -11])\n",
    "X = np.linalg.solve(A,B)\n",
    "print(X)"
   ]
  },
  {
   "cell_type": "markdown",
   "metadata": {},
   "source": [
    "### P2 max limit is hit, setting to Pmax"
   ]
  },
  {
   "cell_type": "code",
   "execution_count": 71,
   "metadata": {},
   "outputs": [
    {
     "data": {
      "text/plain": [
       "43.0"
      ]
     },
     "execution_count": 71,
     "metadata": {},
     "output_type": "execute_result"
    }
   ],
   "source": [
    "#Checking for lambda\n",
    "11+0.04*800\n",
    "# conditions met as Lambda at Pmax = 43 < 48"
   ]
  },
  {
   "cell_type": "markdown",
   "metadata": {},
   "source": [
    "## Starting from Iteration 2"
   ]
  },
  {
   "cell_type": "code",
   "execution_count": 72,
   "metadata": {},
   "outputs": [
    {
     "data": {
      "text/html": [
       "<div>\n",
       "<style scoped>\n",
       "    .dataframe tbody tr th:only-of-type {\n",
       "        vertical-align: middle;\n",
       "    }\n",
       "\n",
       "    .dataframe tbody tr th {\n",
       "        vertical-align: top;\n",
       "    }\n",
       "\n",
       "    .dataframe thead th {\n",
       "        text-align: right;\n",
       "    }\n",
       "</style>\n",
       "<table border=\"1\" class=\"dataframe\">\n",
       "  <thead>\n",
       "    <tr style=\"text-align: right;\">\n",
       "      <th></th>\n",
       "      <th>iteration</th>\n",
       "      <th>Inc_loss_1</th>\n",
       "      <th>Inc_loss_2</th>\n",
       "      <th>Penfac_1</th>\n",
       "      <th>Penfac_2</th>\n",
       "      <th>Plosses</th>\n",
       "      <th>Pdemand</th>\n",
       "      <th>Lambda</th>\n",
       "      <th>P1</th>\n",
       "      <th>P2</th>\n",
       "    </tr>\n",
       "  </thead>\n",
       "  <tbody>\n",
       "    <tr>\n",
       "      <th>0</th>\n",
       "      <td>2</td>\n",
       "      <td>0.110000</td>\n",
       "      <td>0.160000</td>\n",
       "      <td>1.123596</td>\n",
       "      <td>1.190476</td>\n",
       "      <td>79.125000</td>\n",
       "      <td>1079.125000</td>\n",
       "      <td>47.786727</td>\n",
       "      <td>350.603737</td>\n",
       "      <td>728.521263</td>\n",
       "    </tr>\n",
       "    <tr>\n",
       "      <th>1</th>\n",
       "      <td>3</td>\n",
       "      <td>0.140241</td>\n",
       "      <td>0.145704</td>\n",
       "      <td>1.163117</td>\n",
       "      <td>1.170555</td>\n",
       "      <td>77.658919</td>\n",
       "      <td>1077.658919</td>\n",
       "      <td>48.055401</td>\n",
       "      <td>326.320798</td>\n",
       "      <td>751.338122</td>\n",
       "    </tr>\n",
       "    <tr>\n",
       "      <th>2</th>\n",
       "      <td>4</td>\n",
       "      <td>0.130528</td>\n",
       "      <td>0.150268</td>\n",
       "      <td>1.150124</td>\n",
       "      <td>1.176841</td>\n",
       "      <td>77.747950</td>\n",
       "      <td>1077.747950</td>\n",
       "      <td>47.957971</td>\n",
       "      <td>333.961945</td>\n",
       "      <td>743.786005</td>\n",
       "    </tr>\n",
       "    <tr>\n",
       "      <th>3</th>\n",
       "      <td>5</td>\n",
       "      <td>0.133585</td>\n",
       "      <td>0.148757</td>\n",
       "      <td>1.154181</td>\n",
       "      <td>1.174753</td>\n",
       "      <td>77.627878</td>\n",
       "      <td>1077.627878</td>\n",
       "      <td>47.983887</td>\n",
       "      <td>331.479411</td>\n",
       "      <td>746.148467</td>\n",
       "    </tr>\n",
       "    <tr>\n",
       "      <th>4</th>\n",
       "      <td>6</td>\n",
       "      <td>0.132592</td>\n",
       "      <td>0.149230</td>\n",
       "      <td>1.152860</td>\n",
       "      <td>1.175405</td>\n",
       "      <td>77.649474</td>\n",
       "      <td>1077.649474</td>\n",
       "      <td>47.974447</td>\n",
       "      <td>332.268604</td>\n",
       "      <td>745.380869</td>\n",
       "    </tr>\n",
       "    <tr>\n",
       "      <th>5</th>\n",
       "      <td>7</td>\n",
       "      <td>0.132907</td>\n",
       "      <td>0.149076</td>\n",
       "      <td>1.153279</td>\n",
       "      <td>1.175193</td>\n",
       "      <td>77.639749</td>\n",
       "      <td>1077.639749</td>\n",
       "      <td>47.977271</td>\n",
       "      <td>332.014684</td>\n",
       "      <td>745.625065</td>\n",
       "    </tr>\n",
       "    <tr>\n",
       "      <th>6</th>\n",
       "      <td>8</td>\n",
       "      <td>0.132806</td>\n",
       "      <td>0.149125</td>\n",
       "      <td>1.153144</td>\n",
       "      <td>1.175261</td>\n",
       "      <td>77.642424</td>\n",
       "      <td>1077.642424</td>\n",
       "      <td>47.976333</td>\n",
       "      <td>332.095882</td>\n",
       "      <td>745.546542</td>\n",
       "    </tr>\n",
       "    <tr>\n",
       "      <th>7</th>\n",
       "      <td>9</td>\n",
       "      <td>0.132838</td>\n",
       "      <td>0.149109</td>\n",
       "      <td>1.153188</td>\n",
       "      <td>1.175239</td>\n",
       "      <td>77.641500</td>\n",
       "      <td>1077.641500</td>\n",
       "      <td>47.976628</td>\n",
       "      <td>332.069840</td>\n",
       "      <td>745.571660</td>\n",
       "    </tr>\n",
       "  </tbody>\n",
       "</table>\n",
       "</div>"
      ],
      "text/plain": [
       "   iteration  Inc_loss_1  Inc_loss_2  Penfac_1  Penfac_2    Plosses  \\\n",
       "0          2    0.110000    0.160000  1.123596  1.190476  79.125000   \n",
       "1          3    0.140241    0.145704  1.163117  1.170555  77.658919   \n",
       "2          4    0.130528    0.150268  1.150124  1.176841  77.747950   \n",
       "3          5    0.133585    0.148757  1.154181  1.174753  77.627878   \n",
       "4          6    0.132592    0.149230  1.152860  1.175405  77.649474   \n",
       "5          7    0.132907    0.149076  1.153279  1.175193  77.639749   \n",
       "6          8    0.132806    0.149125  1.153144  1.175261  77.642424   \n",
       "7          9    0.132838    0.149109  1.153188  1.175239  77.641500   \n",
       "\n",
       "       Pdemand     Lambda          P1          P2  \n",
       "0  1079.125000  47.786727  350.603737  728.521263  \n",
       "1  1077.658919  48.055401  326.320798  751.338122  \n",
       "2  1077.747950  47.957971  333.961945  743.786005  \n",
       "3  1077.627878  47.983887  331.479411  746.148467  \n",
       "4  1077.649474  47.974447  332.268604  745.380869  \n",
       "5  1077.639749  47.977271  332.014684  745.625065  \n",
       "6  1077.642424  47.976333  332.095882  745.546542  \n",
       "7  1077.641500  47.976628  332.069840  745.571660  "
      ]
     },
     "execution_count": 72,
     "metadata": {},
     "output_type": "execute_result"
    }
   ],
   "source": [
    "p1, p2 = [275, 800]\n",
    "for i in range(8):\n",
    "    incloss1 = 0.0004*p1\n",
    "    incloss2 = 0.0002*p2\n",
    "    penfact1 = 1/(1-incloss1)\n",
    "    penfact2 = 1/(1-incloss2)\n",
    "    ploss = 0.0002*p1*p1 + 0.0001*p2*p2\n",
    "    pdemand = ploss + 1000\n",
    "    #solve kkt\n",
    "    A = np.array([[1, 1, 0], [0.05, 0, incloss1-1], [0, 0.04, incloss2-1]])\n",
    "    B = np.array([pdemand, -25, -11])\n",
    "    X = np.linalg.solve(A,B)\n",
    "    #update power values\n",
    "    p1, p2, lamb = X \n",
    "    #append to dict\n",
    "    values.append([i+2,incloss1,incloss2,penfact1,penfact2,ploss,pdemand,lamb,p1,p2])\n",
    "pd.DataFrame(values,columns=header)"
   ]
  },
  {
   "cell_type": "markdown",
   "metadata": {},
   "source": [
    "$$P_{1} = 332.0 MW$$\n",
    "$$P_{2} = 745.6 MW$$\n",
    "$$P_{demand} = 1077.6 MW$$\n",
    "$$ \\lambda = 47.97 $$\n"
   ]
  }
 ],
 "metadata": {
  "kernelspec": {
   "display_name": "env-jupyterbook",
   "language": "python",
   "name": "env-jupyterbook"
  },
  "language_info": {
   "codemirror_mode": {
    "name": "ipython",
    "version": 3
   },
   "file_extension": ".py",
   "mimetype": "text/x-python",
   "name": "python",
   "nbconvert_exporter": "python",
   "pygments_lexer": "ipython3",
   "version": "3.7.9"
  }
 },
 "nbformat": 4,
 "nbformat_minor": 4
}
